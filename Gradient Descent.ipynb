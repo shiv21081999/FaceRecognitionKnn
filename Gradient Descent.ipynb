{
 "cells": [
  {
   "cell_type": "code",
   "execution_count": null,
   "metadata": {},
   "outputs": [],
   "source": [
    "import numpy as np\n",
    "import matplotlib.pyplot as plt"
   ]
  },
  {
   "cell_type": "code",
   "execution_count": null,
   "metadata": {},
   "outputs": [],
   "source": [
    "x = np.arange(10)\n",
    "print(x)"
   ]
  },
  {
   "cell_type": "code",
   "execution_count": null,
   "metadata": {},
   "outputs": [],
   "source": [
    "y = (x-5)**2"
   ]
  },
  {
   "cell_type": "code",
   "execution_count": null,
   "metadata": {},
   "outputs": [],
   "source": [
    "print(y)"
   ]
  },
  {
   "cell_type": "code",
   "execution_count": null,
   "metadata": {},
   "outputs": [],
   "source": [
    "plt.plot(x,y)\n",
    "plt.show()"
   ]
  },
  {
   "cell_type": "code",
   "execution_count": null,
   "metadata": {},
   "outputs": [],
   "source": [
    "### Gradient Descent Algorithm"
   ]
  },
  {
   "cell_type": "code",
   "execution_count": 31,
   "metadata": {},
   "outputs": [
    {
     "name": "stdout",
     "output_type": "stream",
     "text": [
      "0\n"
     ]
    }
   ],
   "source": []
  },
  {
   "cell_type": "code",
   "execution_count": 42,
   "metadata": {},
   "outputs": [
    {
     "name": "stdout",
     "output_type": "stream",
     "text": [
      "X 1.0000 ,Error 16.0000 \n",
      "X 1.8000 ,Error 10.2400 \n",
      "X 2.4400 ,Error 6.5536 \n",
      "X 2.9520 ,Error 4.1943 \n",
      "X 3.3616 ,Error 2.6844 \n",
      "X 3.6893 ,Error 1.7180 \n",
      "X 3.9514 ,Error 1.0995 \n",
      "X 4.1611 ,Error 0.7037 \n",
      "X 4.3289 ,Error 0.4504 \n",
      "X 4.4631 ,Error 0.2882 \n",
      "X 4.5705 ,Error 0.1845 \n",
      "X 4.6564 ,Error 0.1181 \n",
      "X 4.7251 ,Error 0.0756 \n",
      "X 4.7801 ,Error 0.0484 \n",
      "X 4.8241 ,Error 0.0309 \n"
     ]
    },
    {
     "data": {
      "image/png": "[encoded data removed]",
      "text/plain": [
       "<Figure size 432x288 with 1 Axes>"
      ]
     },
     "metadata": {
      "needs_background": "light"
     },
     "output_type": "display_data"
    }
   ],
   "source": [
    "x1 = 0\n",
    "\n",
    "steps = 1\n",
    "learning_rate = 0.1\n",
    "\n",
    "plt.plot(x,y)\n",
    "\n",
    "while(steps<=15):\n",
    "    x1 = x1 - learning_rate*2*(x1-5)\n",
    "    \n",
    "    error = ((x1-5)**2)\n",
    "    plt.scatter(x1,error)\n",
    "    print(\"X %.4f ,Error %.4f \"%(x1,error))\n",
    "    steps += 1\n",
    "    \n",
    "plt.show()"
   ]
  },
  {
   "cell_type": "code",
   "execution_count": null,
   "metadata": {},
   "outputs": [],
   "source": [
    "plt.show()"
   ]
  },
  {
   "cell_type": "code",
   "execution_count": null,
   "metadata": {},
   "outputs": [],
   "source": []
  }
 ],
 "metadata": {
  "kernelspec": {
   "display_name": "Python 3",
   "language": "python",
   "name": "python3"
  },
  "language_info": {
   "codemirror_mode": {
    "name": "ipython",
    "version": 3
   },
   "file_extension": ".py",
   "mimetype": "text/x-python",
   "name": "python",
   "nbconvert_exporter": "python",
   "pygments_lexer": "ipython3",
   "version": "3.7.3"
  }
 },
 "nbformat": 4,
 "nbformat_minor": 2
}
